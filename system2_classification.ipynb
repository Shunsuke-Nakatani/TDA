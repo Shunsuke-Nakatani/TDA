{
 "cells": [
  {
   "cell_type": "code",
   "execution_count": 1,
   "id": "5b0a9333-c789-4a4a-8306-244401754a4a",
   "metadata": {},
   "outputs": [
    {
     "name": "stderr",
     "output_type": "stream",
     "text": [
      "C:\\Users\\sinco\\anaconda3\\envs\\giotto\\lib\\site-packages\\sklearn\\utils\\deprecation.py:151: FutureWarning: 'force_all_finite' was renamed to 'ensure_all_finite' in 1.6 and will be removed in 1.8.\n",
      "  warnings.warn(\n",
      "C:\\Users\\sinco\\anaconda3\\envs\\giotto\\lib\\site-packages\\sklearn\\utils\\deprecation.py:151: FutureWarning: 'force_all_finite' was renamed to 'ensure_all_finite' in 1.6 and will be removed in 1.8.\n",
      "  warnings.warn(\n",
      "C:\\Users\\sinco\\anaconda3\\envs\\giotto\\lib\\site-packages\\sklearn\\utils\\deprecation.py:151: FutureWarning: 'force_all_finite' was renamed to 'ensure_all_finite' in 1.6 and will be removed in 1.8.\n",
      "  warnings.warn(\n",
      "C:\\Users\\sinco\\anaconda3\\envs\\giotto\\lib\\site-packages\\sklearn\\utils\\deprecation.py:151: FutureWarning: 'force_all_finite' was renamed to 'ensure_all_finite' in 1.6 and will be removed in 1.8.\n",
      "  warnings.warn(\n",
      "C:\\Users\\sinco\\anaconda3\\envs\\giotto\\lib\\site-packages\\sklearn\\utils\\deprecation.py:151: FutureWarning: 'force_all_finite' was renamed to 'ensure_all_finite' in 1.6 and will be removed in 1.8.\n",
      "  warnings.warn(\n",
      "C:\\Users\\sinco\\anaconda3\\envs\\giotto\\lib\\site-packages\\sklearn\\utils\\deprecation.py:151: FutureWarning: 'force_all_finite' was renamed to 'ensure_all_finite' in 1.6 and will be removed in 1.8.\n",
      "  warnings.warn(\n"
     ]
    }
   ],
   "source": [
    "import os\n",
    "import numpy as np\n",
    "import cv2\n",
    "from gtda.images import RadialFiltration\n",
    "from gtda.homology import VietorisRipsPersistence\n",
    "from gtda.diagrams import PersistenceEntropy\n",
    "from sklearn.pipeline import Pipeline\n",
    "from sklearn.ensemble import RandomForestClassifier\n",
    "from sklearn.model_selection import train_test_split\n",
    "from sklearn.metrics import accuracy_score\n",
    "\n",
    "# データセットのパス\n",
    "DATASET_PATH = r\"C:\\Users\\sinco\\Desktop\\dataset\"\n",
    "CATEGORIES = [\"fraud\", \"normal\"]\n",
    "#IMG_SIZE = (224, 224)\n",
    "\n",
    "# データを格納するリスト\n",
    "X, y = [], []\n",
    "\n",
    "# 画像の前処理\n",
    "for label, category in enumerate(CATEGORIES):\n",
    "    folder_path = os.path.join(DATASET_PATH, category)\n",
    "    for filename in os.listdir(folder_path):\n",
    "        img_path = os.path.join(folder_path, filename)\n",
    "        img = cv2.imread(img_path, cv2.IMREAD_GRAYSCALE)  # グレースケール変換\n",
    "        #img = cv2.resize(img, IMG_SIZE)  # 224x224 にリサイズ\n",
    "        X.append(img)\n",
    "        y.append(label)\n",
    "\n",
    "# numpy 配列に変換\n",
    "X = np.array(X).astype(np.float32) / 255.0  # 正規化\n",
    "y = np.array(y)\n",
    "\n",
    "# パイプラインの構築\n",
    "pipeline = Pipeline([\n",
    "    (\"radial_filtration\", RadialFiltration()),              # Radial Filtration を適用 defaultでは画像中心\n",
    "    (\"vietoris_rips\", VietorisRipsPersistence()),           # Persistent Homology計算\n",
    "    (\"persistence_entropy\", PersistenceEntropy()),          # Persistent Entropyを計算\n",
    "    (\"classifier\", RandomForestClassifier(n_estimators=200, max_depth=10, random_state=42))  # ランダムフォレストで分類\n",
    "])\n",
    "\n",
    "# 学習データとテストデータに分割\n",
    "X_train, X_test, y_train, y_test = train_test_split(X, y, test_size=0.2, random_state=42)\n",
    "\n",
    "# 学習\n",
    "pipeline.fit(X_train, y_train)\n",
    "\n",
    "# 予測と評価\n",
    "y_pred = pipeline.predict(X_test)"
   ]
  },
  {
   "cell_type": "code",
   "execution_count": 2,
   "id": "d9825f6e-a6f7-4b41-b9fe-db9194ebff7d",
   "metadata": {},
   "outputs": [
    {
     "data": {
      "image/png": "[encoded data removed]",
      "text/plain": [
       "<Figure size 600x600 with 2 Axes>"
      ]
     },
     "metadata": {},
     "output_type": "display_data"
    },
    {
     "name": "stdout",
     "output_type": "stream",
     "text": [
      "Classification Report:\n",
      "              precision    recall  f1-score   support\n",
      "\n",
      "       fraud       0.78      0.82      0.80       193\n",
      "      normal       0.82      0.78      0.80       205\n",
      "\n",
      "    accuracy                           0.80       398\n",
      "   macro avg       0.80      0.80      0.80       398\n",
      "weighted avg       0.80      0.80      0.80       398\n",
      "\n"
     ]
    }
   ],
   "source": [
    "from sklearn.metrics import confusion_matrix, classification_report\n",
    "import seaborn as sns\n",
    "import matplotlib.pyplot as plt\n",
    "\n",
    "# 混合行列を計算\n",
    "cm = confusion_matrix(y_test, y_pred)\n",
    "\n",
    "# 混合行列をヒートマップで表示\n",
    "plt.figure(figsize=(6, 6))\n",
    "sns.heatmap(cm, annot=True, fmt=\"d\", cmap=\"Blues\", xticklabels=[\"fraud\", \"normal\"], yticklabels=[\"fraud\", \"normal\"])\n",
    "plt.xlabel('Predicted')\n",
    "plt.ylabel('Actual')\n",
    "plt.title('Confusion Matrix')\n",
    "plt.show()\n",
    "\n",
    "# precision, recall, f1-score などの詳細な評価指標を表示\n",
    "print(\"Classification Report:\")\n",
    "print(classification_report(y_test, y_pred, target_names=[\"fraud\", \"normal\"]))\n"
   ]
  },
  {
   "cell_type": "code",
   "execution_count": null,
   "id": "29bacf2c-d619-4b14-9210-5fd431dc9bd2",
   "metadata": {},
   "outputs": [],
   "source": []
  }
 ],
 "metadata": {
  "kernelspec": {
   "display_name": "Python 3 (ipykernel)",
   "language": "python",
   "name": "python3"
  },
  "language_info": {
   "codemirror_mode": {
    "name": "ipython",
    "version": 3
   },
   "file_extension": ".py",
   "mimetype": "text/x-python",
   "name": "python",
   "nbconvert_exporter": "python",
   "pygments_lexer": "ipython3",
   "version": "3.9.21"
  }
 },
 "nbformat": 4,
 "nbformat_minor": 5
}
