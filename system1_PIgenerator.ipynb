{
 "cells": [
  {
   "cell_type": "markdown",
   "metadata": {},
   "source": [
    "不正アカウントのラベル付け"
   ]
  },
  {
   "cell_type": "code",
   "execution_count": 1,
   "metadata": {},
   "outputs": [],
   "source": [
    "import numpy as nm\n",
    "import pandas as pd\n",
    "import os\n",
    "import random\n",
    "from datetime import datetime\n",
    "import networkx as nx\n",
    "from ripser import ripser\n",
    "from persim import PersistenceImager\n",
    "import matplotlib.pyplot as plt\n",
    "import time"
   ]
  },
  {
   "cell_type": "code",
   "execution_count": 2,
   "metadata": {
    "scrolled": false
   },
   "outputs": [],
   "source": [
    "# sample.csvのあるディレクトリを指定\n",
    "os.chdir(\"/Users/sinco/Desktop/python\")\n",
    "\n",
    "# CSVファイルの読み取り\n",
    "df = pd.read_csv('2018-transaction-3.txt')  # トランザクションデータ\n",
    "df_phish = pd.read_csv('phish.csv')  # フィッシングアカウント一覧\n",
    "\n",
    "# フィッシングアカウントのリストを取得\n",
    "phish_list = df_phish[\"account\"].values.tolist()\n",
    "df['is_phish'] = df['from_address'].isin(phish_list) | df['to_address'].isin(phish_list)\n",
    "df_ph = df[df['is_phish']]  # フィッシングアカウントに関連するトランザクションを抽出\n",
    "\n",
    "# 新しいフォルダを作成 (日時で一意に)\n",
    "folder_name = datetime.now().strftime(\"%Y%m%d_%H%M%S\")\n",
    "folder_path = f\"/Users/sinco/Desktop/python/pimgs/{folder_name}/\"\n",
    "if not os.path.exists(folder_path):\n",
    "    os.makedirs(folder_path)\n",
    "\n",
    "# ノーマルアカウントのデータを抽出\n",
    "df_normal = df[~df['is_phish']]  # フィッシングアカウントでないトランザクションを抽出\n",
    "\n",
    "# 抽出する行数と割合を指定\n",
    "num_samples = 1000  # 抽出する総行数\n",
    "phish_ratio = 0.3   # フィッシングアカウントの割合 (0.3 = 30%)\n",
    "\n",
    "# フィッシングとノーマルの行数を計算\n",
    "num_phish_samples = int(num_samples * phish_ratio)\n",
    "num_normal_samples = num_samples - num_phish_samples\n",
    "\n",
    "# フィッシングアカウントとノーマルアカウントをランダムにサンプリング\n",
    "df_ph_sample = df_ph.sample(n=min(num_phish_samples, len(df_ph)), random_state=42)  # フィッシングアカウント\n",
    "df_normal_sample = df_normal.sample(n=min(num_normal_samples, len(df_normal)), random_state=42)  # ノーマルアカウント\n",
    "\n",
    "# サンプルを結合\n",
    "df_sample = pd.concat([df_ph_sample, df_normal_sample])"
   ]
  },
  {
   "cell_type": "code",
   "execution_count": 3,
   "metadata": {},
   "outputs": [],
   "source": [
    "# グラフを作成\n",
    "edges = pd.DataFrame({\n",
    "    'source': df_sample['from_address'],\n",
    "    'target': df_sample['to_address'],\n",
    "    'weight': df_sample['value']\n",
    "})\n",
    "G = nx.from_pandas_edgelist(edges, edge_attr=True)\n",
    "\n",
    "# ノード位置を計算\n",
    "pos = nx.spring_layout(G)\n",
    "A = nm.array(list(pos.values()))  # ノードの座標を配列に変換\n"
   ]
  },
  {
   "cell_type": "code",
   "execution_count": 4,
   "metadata": {},
   "outputs": [
    {
     "ename": "NameError",
     "evalue": "name 'diagrams' is not defined",
     "output_type": "error",
     "traceback": [
      "\u001b[1;31m---------------------------------------------------------------------------\u001b[0m",
      "\u001b[1;31mNameError\u001b[0m                                 Traceback (most recent call last)",
      "Cell \u001b[1;32mIn[4], line 8\u001b[0m\n\u001b[0;32m      6\u001b[0m pimgr\u001b[38;5;241m.\u001b[39mbirth_range \u001b[38;5;241m=\u001b[39m (\u001b[38;5;241m0\u001b[39m, \u001b[38;5;241m1\u001b[39m)\n\u001b[0;32m      7\u001b[0m pimgr\u001b[38;5;241m.\u001b[39mpers_range \u001b[38;5;241m=\u001b[39m (\u001b[38;5;241m0\u001b[39m, \u001b[38;5;241m1\u001b[39m)\n\u001b[1;32m----> 8\u001b[0m pimgr\u001b[38;5;241m.\u001b[39mfit(\u001b[43mdiagrams\u001b[49m[\u001b[38;5;241m1\u001b[39m], skew\u001b[38;5;241m=\u001b[39m\u001b[38;5;28;01mTrue\u001b[39;00m)\n\u001b[0;32m     10\u001b[0m \u001b[38;5;66;03m# ランダムに選ぶ点の数と試行回数を設定\u001b[39;00m\n\u001b[0;32m     11\u001b[0m num_samples \u001b[38;5;241m=\u001b[39m \u001b[38;5;241m10\u001b[39m  \u001b[38;5;66;03m# 各イテレーションで選ぶ点の総数\u001b[39;00m\n",
      "\u001b[1;31mNameError\u001b[0m: name 'diagrams' is not defined"
     ]
    }
   ],
   "source": [
    "# TDAに必要な図を生成\n",
    "#diagrams = ripser(A)['dgms']\n",
    "\n",
    "# パーシステンスイメージの設定\n",
    "pimgr = PersistenceImager(pixel_size=0.05)\n",
    "pimgr.birth_range = (0, 1)\n",
    "pimgr.pers_range = (0, 1)\n",
    "pimgr.fit(diagrams[1], skew=True)\n",
    "\n",
    "# ランダムに選ぶ点の数と試行回数を設定\n",
    "num_samples = 10  # 各イテレーションで選ぶ点の総数\n",
    "num_iterations = 5  # イテレーションの数\n",
    "phish_ratio = 0.2  # フィッシングアカウントの割合"
   ]
  },
  {
   "cell_type": "code",
   "execution_count": null,
   "metadata": {},
   "outputs": [],
   "source": [
    "# 各試行でノードをマスキング\n",
    "for i in range(1, num_iterations + 1):\n",
    "    print(f\"Iteration {i}\")\n",
    "\n",
    "    start = time.perf_counter()\n",
    "\n",
    "    # フィッシングアカウントとノーマルアカウントのサンプル数を計算\n",
    "    num_phish_samples = int(num_samples * phish_ratio)\n",
    "    num_normal_samples = num_samples - num_phish_samples\n",
    "\n",
    "    if num_phish_samples > len(df_ph):\n",
    "        num_phish_samples = len(df_ph)  # 利用可能なフィッシングアカウント数を超えないように調整\n",
    "    if num_normal_samples > (len(df) - len(df_ph)):\n",
    "        num_normal_samples = len(df) - len(df_ph)  # 利用可能なノーマルアカウント数を超えないように調整\n",
    "\n",
    "    # フィッシングアカウントとノーマルアカウントをサンプリング\n",
    "    sampled_phish = df_ph.sample(n=num_phish_samples)\n",
    "    sampled_normal = df.drop(df_ph.index).sample(n=num_normal_samples)  # ノーマルアカウントをサンプリング\n",
    "\n",
    "    # マスキングするノードを取得\n",
    "    masked_nodes = pd.concat([sampled_phish['from_address'], sampled_phish['to_address'], \n",
    "                              sampled_normal['from_address'], sampled_normal['to_address']]).unique()\n",
    "\n",
    "    # グラフをマスキング\n",
    "    masked_edges = edges[edges['source'].isin(masked_nodes) & edges['target'].isin(masked_nodes)]\n",
    "    G_masked = nx.from_pandas_edgelist(masked_edges, edge_attr=True)\n",
    "\n",
    "    # マスキングしたグラフのノード位置を再計算\n",
    "    pos_masked = nx.spring_layout(G_masked)\n",
    "    A_masked = nm.array(list(pos_masked.values()))  # ノードの座標を配列に変換\n",
    "\n",
    "    # TDAを適用\n",
    "    diagrams_masked = ripser(A_masked)['dgms']\n",
    "\n",
    "    # 画像の生成\n",
    "    pimgs = pimgr.transform(diagrams_masked, skew=True)\n",
    "    pimgr.weight_params = {'low': 0.0, 'high': 1.0, 'start': 2.0, 'end': 10.0}\n",
    "\n",
    "    # 画像の保存\n",
    "    fig, ax = plt.subplots(1, 1, figsize=(5, 5))\n",
    "    name = f\"case_{i}.jpg\"\n",
    "    print(f\"Saving image as: {name}\")\n",
    "    pimgr.plot_image(pimgs[1], ax, out_file=os.path.join(folder_path, name))\n",
    "\n",
    "    elapsed_time = time.perf_counter() - start\n",
    "    print(f\"Iteration {i} completed in {elapsed_time:.4f} seconds\")\n",
    "    plt.close(fig)  # プロットを閉じる\n",
    "\n",
    "print(\"All images saved successfully.\")"
   ]
  },
  {
   "cell_type": "code",
   "execution_count": null,
   "metadata": {
    "vscode": {
     "languageId": "shellscript"
    }
   },
   "outputs": [],
   "source": []
  },
  {
   "cell_type": "code",
   "execution_count": null,
   "metadata": {},
   "outputs": [],
   "source": []
  },
  {
   "cell_type": "code",
   "execution_count": null,
   "metadata": {},
   "outputs": [],
   "source": []
  }
 ],
 "metadata": {
  "kernelspec": {
   "display_name": "Python 3 (ipykernel)",
   "language": "python",
   "name": "python3"
  },
  "language_info": {
   "codemirror_mode": {
    "name": "ipython",
    "version": 3
   },
   "file_extension": ".py",
   "mimetype": "text/x-python",
   "name": "python",
   "nbconvert_exporter": "python",
   "pygments_lexer": "ipython3",
   "version": "3.9.12"
  },
  "vscode": {
   "interpreter": {
    "hash": "cfa6768c21de3901852213cc8ace0c76992ac9ee5c616b45c25a642d8902200e"
   }
  }
 },
 "nbformat": 4,
 "nbformat_minor": 2
}
